{
 "cells": [
  {
   "cell_type": "code",
   "execution_count": null,
   "metadata": {},
   "outputs": [],
   "source": [
    "https://drive.google.com/file/d/1NZ0IPL2EohbP3WsF6qHUf3pfR8Ws-jEg/view?usp=sharing"
   ]
  },
  {
   "cell_type": "code",
   "execution_count": 10,
   "metadata": {},
   "outputs": [
    {
     "name": "stderr",
     "output_type": "stream",
     "text": [
      "c:\\Users\\mario\\Documents\\Data_Science_Projects\\tweets_sentiment_analisis_app\\venv\\lib\\site-packages\\gdown\\parse_url.py:35: UserWarning: You specified a Google Drive link that is not the correct link to download a file. You might want to try `--fuzzy` option or the following url: https://drive.google.com/uc?id=1NZ0IPL2EohbP3WsF6qHUf3pfR8Ws-jEg\n",
      "  warnings.warn(\n",
      "Downloading...\n",
      "From: https://drive.google.com/file/d/1NZ0IPL2EohbP3WsF6qHUf3pfR8Ws-jEg/view?usp=sharing\n",
      "To: c:\\Users\\mario\\Documents\\Data_Science_Projects\\tweets_sentiment_analisis_app\\scripts\\data.zip\n",
      "74.2kB [00:00, 9.76MB/s]\n"
     ]
    },
    {
     "ename": "BadZipFile",
     "evalue": "File is not a zip file",
     "output_type": "error",
     "traceback": [
      "\u001b[1;31m---------------------------------------------------------------------------\u001b[0m",
      "\u001b[1;31mBadZipFile\u001b[0m                                Traceback (most recent call last)",
      "Cell \u001b[1;32mIn[10], line 5\u001b[0m\n\u001b[0;32m      3\u001b[0m output \u001b[39m=\u001b[39m \u001b[39m'\u001b[39m\u001b[39mdata.zip\u001b[39m\u001b[39m'\u001b[39m\n\u001b[0;32m      4\u001b[0m gdown\u001b[39m.\u001b[39mdownload(url, output, quiet\u001b[39m=\u001b[39m\u001b[39mFalse\u001b[39;00m)\n\u001b[1;32m----> 5\u001b[0m gdown\u001b[39m.\u001b[39;49mextractall(\u001b[39m'\u001b[39;49m\u001b[39mdata.zip\u001b[39;49m\u001b[39m'\u001b[39;49m)\n",
      "File \u001b[1;32mc:\\Users\\mario\\Documents\\Data_Science_Projects\\tweets_sentiment_analisis_app\\venv\\lib\\site-packages\\gdown\\extractall.py:46\u001b[0m, in \u001b[0;36mextractall\u001b[1;34m(path, to)\u001b[0m\n\u001b[0;32m     43\u001b[0m         files\u001b[39m.\u001b[39mappend(fname)\n\u001b[0;32m     44\u001b[0m     \u001b[39mreturn\u001b[39;00m files\n\u001b[1;32m---> 46\u001b[0m \u001b[39mwith\u001b[39;00m opener(path, mode) \u001b[39mas\u001b[39;00m f:\n\u001b[0;32m     47\u001b[0m     f\u001b[39m.\u001b[39mextractall(path\u001b[39m=\u001b[39mto)\n\u001b[0;32m     49\u001b[0m \u001b[39mreturn\u001b[39;00m filelist(f)\n",
      "File \u001b[1;32m~\\Anaconda3\\lib\\zipfile.py:1266\u001b[0m, in \u001b[0;36mZipFile.__init__\u001b[1;34m(self, file, mode, compression, allowZip64, compresslevel, strict_timestamps)\u001b[0m\n\u001b[0;32m   1264\u001b[0m \u001b[39mtry\u001b[39;00m:\n\u001b[0;32m   1265\u001b[0m     \u001b[39mif\u001b[39;00m mode \u001b[39m==\u001b[39m \u001b[39m'\u001b[39m\u001b[39mr\u001b[39m\u001b[39m'\u001b[39m:\n\u001b[1;32m-> 1266\u001b[0m         \u001b[39mself\u001b[39;49m\u001b[39m.\u001b[39;49m_RealGetContents()\n\u001b[0;32m   1267\u001b[0m     \u001b[39melif\u001b[39;00m mode \u001b[39min\u001b[39;00m (\u001b[39m'\u001b[39m\u001b[39mw\u001b[39m\u001b[39m'\u001b[39m, \u001b[39m'\u001b[39m\u001b[39mx\u001b[39m\u001b[39m'\u001b[39m):\n\u001b[0;32m   1268\u001b[0m         \u001b[39m# set the modified flag so central directory gets written\u001b[39;00m\n\u001b[0;32m   1269\u001b[0m         \u001b[39m# even if no files are added to the archive\u001b[39;00m\n\u001b[0;32m   1270\u001b[0m         \u001b[39mself\u001b[39m\u001b[39m.\u001b[39m_didModify \u001b[39m=\u001b[39m \u001b[39mTrue\u001b[39;00m\n",
      "File \u001b[1;32m~\\Anaconda3\\lib\\zipfile.py:1333\u001b[0m, in \u001b[0;36mZipFile._RealGetContents\u001b[1;34m(self)\u001b[0m\n\u001b[0;32m   1331\u001b[0m     \u001b[39mraise\u001b[39;00m BadZipFile(\u001b[39m\"\u001b[39m\u001b[39mFile is not a zip file\u001b[39m\u001b[39m\"\u001b[39m)\n\u001b[0;32m   1332\u001b[0m \u001b[39mif\u001b[39;00m \u001b[39mnot\u001b[39;00m endrec:\n\u001b[1;32m-> 1333\u001b[0m     \u001b[39mraise\u001b[39;00m BadZipFile(\u001b[39m\"\u001b[39m\u001b[39mFile is not a zip file\u001b[39m\u001b[39m\"\u001b[39m)\n\u001b[0;32m   1334\u001b[0m \u001b[39mif\u001b[39;00m \u001b[39mself\u001b[39m\u001b[39m.\u001b[39mdebug \u001b[39m>\u001b[39m \u001b[39m1\u001b[39m:\n\u001b[0;32m   1335\u001b[0m     \u001b[39mprint\u001b[39m(endrec)\n",
      "\u001b[1;31mBadZipFile\u001b[0m: File is not a zip file"
     ]
    }
   ],
   "source": [
    "import gdown\n",
    "url = 'https://drive.google.com/file/d/1NZ0IPL2EohbP3WsF6qHUf3pfR8Ws-jEg/view?usp=sharing'\n",
    "output = 'data.zip'\n",
    "gdown.download(url, output, quiet=False)\n",
    "gdown.extractall('data.zip')"
   ]
  },
  {
   "cell_type": "code",
   "execution_count": 18,
   "metadata": {},
   "outputs": [
    {
     "data": {
      "text/plain": [
       "['c:\\\\Users\\\\mario\\\\Documents\\\\Data_Science_Projects\\\\tweets_sentiment_analisis_app\\\\scripts\\\\blstm_model\\\\keras_metadata.pb',\n",
       " 'c:\\\\Users\\\\mario\\\\Documents\\\\Data_Science_Projects\\\\tweets_sentiment_analisis_app\\\\scripts\\\\blstm_model\\\\saved_model.pb',\n",
       " 'c:\\\\Users\\\\mario\\\\Documents\\\\Data_Science_Projects\\\\tweets_sentiment_analisis_app\\\\scripts\\\\blstm_model\\\\variables\\\\variables.data-00000-of-00001',\n",
       " 'c:\\\\Users\\\\mario\\\\Documents\\\\Data_Science_Projects\\\\tweets_sentiment_analisis_app\\\\scripts\\\\blstm_model\\\\variables\\\\variables.index']"
      ]
     },
     "execution_count": 18,
     "metadata": {},
     "output_type": "execute_result"
    }
   ],
   "source": [
    "url = \"https://drive.google.com/drive/folders/1B2C9CIzZYhuGUd82sHsH2gAmqvtSfhTh?usp=sharing\"\n",
    "gdown.download_folder(url, quiet=True, use_cookies=False)"
   ]
  },
  {
   "cell_type": "code",
   "execution_count": 19,
   "metadata": {},
   "outputs": [],
   "source": [
    "import os\n",
    "os.rename('../scripts/blstm_model', '../model/saved_model_prueba/blstm_model')"
   ]
  },
  {
   "cell_type": "code",
   "execution_count": null,
   "metadata": {},
   "outputs": [],
   "source": []
  }
 ],
 "metadata": {
  "kernelspec": {
   "display_name": "venv",
   "language": "python",
   "name": "python3"
  },
  "language_info": {
   "codemirror_mode": {
    "name": "ipython",
    "version": 3
   },
   "file_extension": ".py",
   "mimetype": "text/x-python",
   "name": "python",
   "nbconvert_exporter": "python",
   "pygments_lexer": "ipython3",
   "version": "3.9.12"
  },
  "orig_nbformat": 4
 },
 "nbformat": 4,
 "nbformat_minor": 2
}
